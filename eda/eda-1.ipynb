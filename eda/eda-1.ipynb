{
 "cells": [
  {
   "cell_type": "markdown",
   "metadata": {},
   "source": [
    "# Setup"
   ]
  },
  {
   "cell_type": "code",
   "execution_count": 1,
   "metadata": {},
   "outputs": [],
   "source": [
    "import pandas as pd\n",
    "import matplotlib.pyplot as plt\n",
    "import seaborn as sns\n",
    "\n",
    "%matplotlib inline\n",
    "sns.set()\n",
    "\n",
    "from IPython.display import display"
   ]
  },
  {
   "cell_type": "markdown",
   "metadata": {},
   "source": [
    "# The Data"
   ]
  },
  {
   "cell_type": "code",
   "execution_count": 2,
   "metadata": {},
   "outputs": [],
   "source": [
    "train = pd.read_csv('../data/train.csv', index_col='id')\n",
    "test = pd.read_csv('../data/test.csv', index_col='id')"
   ]
  },
  {
   "cell_type": "code",
   "execution_count": 3,
   "metadata": {},
   "outputs": [
    {
     "data": {
      "text/html": [
       "<div>\n",
       "<style>\n",
       "    .dataframe thead tr:only-child th {\n",
       "        text-align: right;\n",
       "    }\n",
       "\n",
       "    .dataframe thead th {\n",
       "        text-align: left;\n",
       "    }\n",
       "\n",
       "    .dataframe tbody tr th {\n",
       "        vertical-align: top;\n",
       "    }\n",
       "</style>\n",
       "<table border=\"1\" class=\"dataframe\">\n",
       "  <thead>\n",
       "    <tr style=\"text-align: right;\">\n",
       "      <th></th>\n",
       "      <th>comment_text</th>\n",
       "      <th>toxic</th>\n",
       "      <th>severe_toxic</th>\n",
       "      <th>obscene</th>\n",
       "      <th>threat</th>\n",
       "      <th>insult</th>\n",
       "      <th>identity_hate</th>\n",
       "    </tr>\n",
       "    <tr>\n",
       "      <th>id</th>\n",
       "      <th></th>\n",
       "      <th></th>\n",
       "      <th></th>\n",
       "      <th></th>\n",
       "      <th></th>\n",
       "      <th></th>\n",
       "      <th></th>\n",
       "    </tr>\n",
       "  </thead>\n",
       "  <tbody>\n",
       "    <tr>\n",
       "      <th>22256635</th>\n",
       "      <td>Nonsense?  kiss off, geek. what I said is true...</td>\n",
       "      <td>1</td>\n",
       "      <td>0</td>\n",
       "      <td>0</td>\n",
       "      <td>0</td>\n",
       "      <td>0</td>\n",
       "      <td>0</td>\n",
       "    </tr>\n",
       "    <tr>\n",
       "      <th>27450690</th>\n",
       "      <td>\"\\n\\n Please do not vandalize pages, as you di...</td>\n",
       "      <td>0</td>\n",
       "      <td>0</td>\n",
       "      <td>0</td>\n",
       "      <td>0</td>\n",
       "      <td>0</td>\n",
       "      <td>0</td>\n",
       "    </tr>\n",
       "    <tr>\n",
       "      <th>54037174</th>\n",
       "      <td>\"\\n\\n \"\"Points of interest\"\" \\n\\nI removed the...</td>\n",
       "      <td>0</td>\n",
       "      <td>0</td>\n",
       "      <td>0</td>\n",
       "      <td>0</td>\n",
       "      <td>0</td>\n",
       "      <td>0</td>\n",
       "    </tr>\n",
       "    <tr>\n",
       "      <th>77493077</th>\n",
       "      <td>Asking some his nationality is a Racial offenc...</td>\n",
       "      <td>0</td>\n",
       "      <td>0</td>\n",
       "      <td>0</td>\n",
       "      <td>0</td>\n",
       "      <td>0</td>\n",
       "      <td>0</td>\n",
       "    </tr>\n",
       "    <tr>\n",
       "      <th>79357270</th>\n",
       "      <td>The reader here is not going by my say so for ...</td>\n",
       "      <td>0</td>\n",
       "      <td>0</td>\n",
       "      <td>0</td>\n",
       "      <td>0</td>\n",
       "      <td>0</td>\n",
       "      <td>0</td>\n",
       "    </tr>\n",
       "  </tbody>\n",
       "</table>\n",
       "</div>"
      ],
      "text/plain": [
       "                                               comment_text  toxic  \\\n",
       "id                                                                   \n",
       "22256635  Nonsense?  kiss off, geek. what I said is true...      1   \n",
       "27450690  \"\\n\\n Please do not vandalize pages, as you di...      0   \n",
       "54037174  \"\\n\\n \"\"Points of interest\"\" \\n\\nI removed the...      0   \n",
       "77493077  Asking some his nationality is a Racial offenc...      0   \n",
       "79357270  The reader here is not going by my say so for ...      0   \n",
       "\n",
       "          severe_toxic  obscene  threat  insult  identity_hate  \n",
       "id                                                              \n",
       "22256635             0        0       0       0              0  \n",
       "27450690             0        0       0       0              0  \n",
       "54037174             0        0       0       0              0  \n",
       "77493077             0        0       0       0              0  \n",
       "79357270             0        0       0       0              0  "
      ]
     },
     "metadata": {},
     "output_type": "display_data"
    },
    {
     "data": {
      "text/html": [
       "<div>\n",
       "<style>\n",
       "    .dataframe thead tr:only-child th {\n",
       "        text-align: right;\n",
       "    }\n",
       "\n",
       "    .dataframe thead th {\n",
       "        text-align: left;\n",
       "    }\n",
       "\n",
       "    .dataframe tbody tr th {\n",
       "        vertical-align: top;\n",
       "    }\n",
       "</style>\n",
       "<table border=\"1\" class=\"dataframe\">\n",
       "  <thead>\n",
       "    <tr style=\"text-align: right;\">\n",
       "      <th></th>\n",
       "      <th>comment_text</th>\n",
       "    </tr>\n",
       "    <tr>\n",
       "      <th>id</th>\n",
       "      <th></th>\n",
       "    </tr>\n",
       "  </thead>\n",
       "  <tbody>\n",
       "    <tr>\n",
       "      <th>6044863</th>\n",
       "      <td>==Orphaned non-free media (Image:41cD1jboEvL. ...</td>\n",
       "    </tr>\n",
       "    <tr>\n",
       "      <th>6102620</th>\n",
       "      <td>::Kentuckiana is colloquial.  Even though the ...</td>\n",
       "    </tr>\n",
       "    <tr>\n",
       "      <th>14563293</th>\n",
       "      <td>Hello fellow Wikipedians,\\nI have just modifie...</td>\n",
       "    </tr>\n",
       "    <tr>\n",
       "      <th>21086297</th>\n",
       "      <td>AKC Suspensions \\nThe Morning Call - Feb 24, 2...</td>\n",
       "    </tr>\n",
       "    <tr>\n",
       "      <th>22982444</th>\n",
       "      <td>== [WIKI_LINK: Talk:Celts] ==</td>\n",
       "    </tr>\n",
       "  </tbody>\n",
       "</table>\n",
       "</div>"
      ],
      "text/plain": [
       "                                               comment_text\n",
       "id                                                         \n",
       "6044863   ==Orphaned non-free media (Image:41cD1jboEvL. ...\n",
       "6102620   ::Kentuckiana is colloquial.  Even though the ...\n",
       "14563293  Hello fellow Wikipedians,\\nI have just modifie...\n",
       "21086297  AKC Suspensions \\nThe Morning Call - Feb 24, 2...\n",
       "22982444                      == [WIKI_LINK: Talk:Celts] =="
      ]
     },
     "metadata": {},
     "output_type": "display_data"
    }
   ],
   "source": [
    "display(train.head())\n",
    "display(test.head())"
   ]
  },
  {
   "cell_type": "code",
   "execution_count": 4,
   "metadata": {},
   "outputs": [
    {
     "data": {
      "text/plain": [
       "(95851, 7)"
      ]
     },
     "metadata": {},
     "output_type": "display_data"
    },
    {
     "data": {
      "text/plain": [
       "(226998, 1)"
      ]
     },
     "metadata": {},
     "output_type": "display_data"
    }
   ],
   "source": [
    "display(train.shape)\n",
    "display(test.shape)"
   ]
  },
  {
   "cell_type": "markdown",
   "metadata": {},
   "source": [
    "We have just under **96,000** training records, and **227,000** test records"
   ]
  },
  {
   "cell_type": "markdown",
   "metadata": {},
   "source": [
    "Based on the above, there seems to a be a **strong dimension of obscene, toxic insults** in these comments data.... But note: threats are very rare.\n",
    "\n",
    "Before going any further, let's take a look at a handful of comments:"
   ]
  },
  {
   "cell_type": "markdown",
   "metadata": {},
   "source": [
    "# Illustrative Records"
   ]
  },
  {
   "cell_type": "code",
   "execution_count": 5,
   "metadata": {},
   "outputs": [
    {
     "name": "stdout",
     "output_type": "stream",
     "text": [
      "('FUCK USER JUJUBE!FUCK WIKIPEDIA!DESTROY USER JUJUBE!DESTROY WIKIPEDIA!DEATH '\n",
      " 'TO USER JUJUBE!\\n'\n",
      " 'FUCK USER JUJUBE!FUCK WIKIPEDIA!DESTROY USER JUJUBE!DESTROY WIKIPEDIA!DEATH '\n",
      " 'TO USER JUJUBE!\\n'\n",
      " 'FUCK USER JUJUBE!FUCK WIKIPEDIA!DESTROY USER JUJUBE!DESTROY WIKIPEDIA!DEATH '\n",
      " 'TO USER JUJUBE!\\n'\n",
      " 'FUCK USER JUJUBE!FUCK WIKIPEDIA!DESTROY USER JUJUBE!DESTROY WIKIPEDIA!DEATH '\n",
      " 'TO USER JUJUBE!')\n",
      "================================================================================\n",
      "('You know what else?  Because of the same type of bias that the guy is '\n",
      " \"displaying, media reports are frequently biased.  It's like a bias echo \"\n",
      " 'chamber.  They write biased articles, then they come here and use Wikipedia '\n",
      " 'to trumpet them. Clever, really, but unfair and untruthful.')\n",
      "================================================================================\n",
      "'How many niggers does it take to change a light bulb???'\n",
      "================================================================================\n",
      "(\"Treated him poorly huh? I didn't even use an ethnic slur or anything. This \"\n",
      " \"proves that he's a medical student from Pakistan: \"\n",
      " 'https://twitter.com/ashermadan/status/65290935558344705 and '\n",
      " 'http://www.dailytimes.com.pk/default.asp?page=story_17-6-2004_pg7_37. You '\n",
      " \"better ask him yourself and can't even deny that. 139.190.140.12\")\n",
      "================================================================================\n",
      "('\"\\n'\n",
      " '\\n'\n",
      " \"I haven't done similar research for Up(p)sala, but I am changing the name to \"\n",
      " '\"\"Uppsala University\"\".\"')\n",
      "================================================================================\n"
     ]
    }
   ],
   "source": [
    "from pprint import pprint\n",
    "illustrations = train['comment_text'].sample(5, random_state=42*10)\n",
    "for i in illustrations:\n",
    "    pprint(i)\n",
    "    print('='*80)"
   ]
  },
  {
   "cell_type": "markdown",
   "metadata": {},
   "source": [
    "Okay, so first pass impression...some people get really angry on the internet. But seriously, of the above five, three are what I would classify as toxic. The first is obscene and threatening, the third is racist and obscene, and the fourth may also be racist but at least seems to target someone personally. The second is scathing, but not toxic, and the last is nearly gibberish."
   ]
  },
  {
   "cell_type": "markdown",
   "metadata": {},
   "source": [
    "# Correlation of Toxicity Types"
   ]
  },
  {
   "cell_type": "code",
   "execution_count": 6,
   "metadata": {},
   "outputs": [
    {
     "data": {
      "image/png": "[encoded data removed]",
      "text/plain": [
       "<matplotlib.figure.Figure at 0x22be666df28>"
      ]
     },
     "metadata": {},
     "output_type": "display_data"
    }
   ],
   "source": [
    "sns.heatmap(train.loc[:, 'toxic':'identity_hate'].corr());"
   ]
  },
  {
   "cell_type": "markdown",
   "metadata": {},
   "source": [
    "Interestingly, toxic comments actually tend to be shorter by over ten words."
   ]
  },
  {
   "cell_type": "markdown",
   "metadata": {},
   "source": [
    "# Text Vectorization"
   ]
  },
  {
   "cell_type": "code",
   "execution_count": 7,
   "metadata": {},
   "outputs": [],
   "source": [
    "raw_comments = train['comment_text']"
   ]
  },
  {
   "cell_type": "code",
   "execution_count": 8,
   "metadata": {},
   "outputs": [],
   "source": [
    "from sklearn.feature_extraction.text import CountVectorizer, TfidfTransformer\n",
    "\n",
    "default_params = dict(\n",
    "    ngram_range=(1,2),\n",
    "    stop_words='english',\n",
    "    max_features=1000,\n",
    "    binary=True # on hypothesis that this will be effective at detecting obscenity\n",
    ")\n",
    "\n",
    "def vectorize_text(corpus=None, kind='CountVectorizer', param_dict=default_params):\n",
    "    \"\"\"\n",
    "    Helper function to vectorize raw comments.\n",
    "    Fits and transforms either a CountVectorizer or\n",
    "    TfidfTransformer to a corpus of comments and returns\n",
    "    a DataFrame with appropriately-labeled axes.\n",
    "    \n",
    "    WARNING: Running this function without a reasonably small\n",
    "    vocabulary may result in memory problems due to the conversion\n",
    "    to a dense matrix.\n",
    "    \n",
    "    \"\"\"\n",
    "    if not isinstance(corpus, pd.Series):\n",
    "        raise ValueError('Enter a Pandas Series object for corpus')\n",
    "    \n",
    "    if kind == 'CountVectorizer':\n",
    "        # Parameters to be set by cross validation\n",
    "        vectorizer = CountVectorizer(**param_dict)\n",
    "    elif kind == 'TfidfTransformer':\n",
    "        vectorizer = TfidfTransformer(**param_dict)\n",
    "    else:\n",
    "        raise ValueError('Unrecognized kind')\n",
    "    \n",
    "    # Fit-transform vectorizer and put into DataFrame\n",
    "    vectors = vectorizer.fit_transform(corpus).toarray()\n",
    "    vectors = pd.DataFrame(vectors, columns=vectorizer.get_feature_names(), index=corpus.index)\n",
    "    \n",
    "    # Sort DF columns\n",
    "    word_frequencies = vectors.sum(axis=0) ; keep_cols = vectorizer.vocabulary_.copy()\n",
    "    keep_cols = sorted(keep_cols, key=lambda k: word_frequencies[k], reverse=True)\n",
    "    vectors = vectors[keep_cols]\n",
    "    \n",
    "    # Join back up with raw corpus\n",
    "    vectors = vectors.join(corpus)\n",
    "    cols = vectors.columns.values[-1:].tolist() + vectors.columns.values[:-1].tolist()\n",
    "    vectors = vectors[cols]\n",
    "    \n",
    "    return vectors"
   ]
  },
  {
   "cell_type": "code",
   "execution_count": 9,
   "metadata": {},
   "outputs": [],
   "source": [
    "binary_counts = vectorize_text(raw_comments)"
   ]
  },
  {
   "cell_type": "code",
   "execution_count": 10,
   "metadata": {},
   "outputs": [
    {
     "data": {
      "text/html": [
       "<div>\n",
       "<style>\n",
       "    .dataframe thead tr:only-child th {\n",
       "        text-align: right;\n",
       "    }\n",
       "\n",
       "    .dataframe thead th {\n",
       "        text-align: left;\n",
       "    }\n",
       "\n",
       "    .dataframe tbody tr th {\n",
       "        vertical-align: top;\n",
       "    }\n",
       "</style>\n",
       "<table border=\"1\" class=\"dataframe\">\n",
       "  <thead>\n",
       "    <tr style=\"text-align: right;\">\n",
       "      <th></th>\n",
       "      <th>comment_text</th>\n",
       "      <th>article</th>\n",
       "      <th>page</th>\n",
       "      <th>wikipedia</th>\n",
       "      <th>talk</th>\n",
       "      <th>just</th>\n",
       "      <th>like</th>\n",
       "      <th>don</th>\n",
       "      <th>think</th>\n",
       "      <th>know</th>\n",
       "      <th>...</th>\n",
       "      <th>local</th>\n",
       "      <th>parts</th>\n",
       "      <th>ways</th>\n",
       "      <th>speaking</th>\n",
       "      <th>supported</th>\n",
       "      <th>protected</th>\n",
       "      <th>hesitate</th>\n",
       "      <th>guideline</th>\n",
       "      <th>confirm</th>\n",
       "      <th>pro</th>\n",
       "    </tr>\n",
       "    <tr>\n",
       "      <th>id</th>\n",
       "      <th></th>\n",
       "      <th></th>\n",
       "      <th></th>\n",
       "      <th></th>\n",
       "      <th></th>\n",
       "      <th></th>\n",
       "      <th></th>\n",
       "      <th></th>\n",
       "      <th></th>\n",
       "      <th></th>\n",
       "      <th></th>\n",
       "      <th></th>\n",
       "      <th></th>\n",
       "      <th></th>\n",
       "      <th></th>\n",
       "      <th></th>\n",
       "      <th></th>\n",
       "      <th></th>\n",
       "      <th></th>\n",
       "      <th></th>\n",
       "      <th></th>\n",
       "    </tr>\n",
       "  </thead>\n",
       "  <tbody>\n",
       "    <tr>\n",
       "      <th>22256635</th>\n",
       "      <td>Nonsense?  kiss off, geek. what I said is true...</td>\n",
       "      <td>0</td>\n",
       "      <td>0</td>\n",
       "      <td>0</td>\n",
       "      <td>0</td>\n",
       "      <td>0</td>\n",
       "      <td>0</td>\n",
       "      <td>0</td>\n",
       "      <td>0</td>\n",
       "      <td>0</td>\n",
       "      <td>...</td>\n",
       "      <td>0</td>\n",
       "      <td>0</td>\n",
       "      <td>0</td>\n",
       "      <td>0</td>\n",
       "      <td>0</td>\n",
       "      <td>0</td>\n",
       "      <td>0</td>\n",
       "      <td>0</td>\n",
       "      <td>0</td>\n",
       "      <td>0</td>\n",
       "    </tr>\n",
       "    <tr>\n",
       "      <th>27450690</th>\n",
       "      <td>\"\\n\\n Please do not vandalize pages, as you di...</td>\n",
       "      <td>0</td>\n",
       "      <td>0</td>\n",
       "      <td>0</td>\n",
       "      <td>0</td>\n",
       "      <td>0</td>\n",
       "      <td>0</td>\n",
       "      <td>0</td>\n",
       "      <td>0</td>\n",
       "      <td>0</td>\n",
       "      <td>...</td>\n",
       "      <td>0</td>\n",
       "      <td>0</td>\n",
       "      <td>0</td>\n",
       "      <td>0</td>\n",
       "      <td>0</td>\n",
       "      <td>0</td>\n",
       "      <td>0</td>\n",
       "      <td>0</td>\n",
       "      <td>0</td>\n",
       "      <td>0</td>\n",
       "    </tr>\n",
       "    <tr>\n",
       "      <th>54037174</th>\n",
       "      <td>\"\\n\\n \"\"Points of interest\"\" \\n\\nI removed the...</td>\n",
       "      <td>0</td>\n",
       "      <td>0</td>\n",
       "      <td>0</td>\n",
       "      <td>0</td>\n",
       "      <td>1</td>\n",
       "      <td>0</td>\n",
       "      <td>0</td>\n",
       "      <td>0</td>\n",
       "      <td>1</td>\n",
       "      <td>...</td>\n",
       "      <td>0</td>\n",
       "      <td>0</td>\n",
       "      <td>0</td>\n",
       "      <td>0</td>\n",
       "      <td>0</td>\n",
       "      <td>0</td>\n",
       "      <td>0</td>\n",
       "      <td>0</td>\n",
       "      <td>0</td>\n",
       "      <td>0</td>\n",
       "    </tr>\n",
       "    <tr>\n",
       "      <th>77493077</th>\n",
       "      <td>Asking some his nationality is a Racial offenc...</td>\n",
       "      <td>0</td>\n",
       "      <td>0</td>\n",
       "      <td>0</td>\n",
       "      <td>0</td>\n",
       "      <td>0</td>\n",
       "      <td>0</td>\n",
       "      <td>0</td>\n",
       "      <td>0</td>\n",
       "      <td>0</td>\n",
       "      <td>...</td>\n",
       "      <td>0</td>\n",
       "      <td>0</td>\n",
       "      <td>0</td>\n",
       "      <td>0</td>\n",
       "      <td>0</td>\n",
       "      <td>0</td>\n",
       "      <td>0</td>\n",
       "      <td>0</td>\n",
       "      <td>0</td>\n",
       "      <td>0</td>\n",
       "    </tr>\n",
       "    <tr>\n",
       "      <th>79357270</th>\n",
       "      <td>The reader here is not going by my say so for ...</td>\n",
       "      <td>0</td>\n",
       "      <td>0</td>\n",
       "      <td>0</td>\n",
       "      <td>0</td>\n",
       "      <td>0</td>\n",
       "      <td>0</td>\n",
       "      <td>0</td>\n",
       "      <td>0</td>\n",
       "      <td>0</td>\n",
       "      <td>...</td>\n",
       "      <td>0</td>\n",
       "      <td>0</td>\n",
       "      <td>0</td>\n",
       "      <td>0</td>\n",
       "      <td>0</td>\n",
       "      <td>0</td>\n",
       "      <td>0</td>\n",
       "      <td>0</td>\n",
       "      <td>0</td>\n",
       "      <td>0</td>\n",
       "    </tr>\n",
       "  </tbody>\n",
       "</table>\n",
       "<p>5 rows × 1001 columns</p>\n",
       "</div>"
      ],
      "text/plain": [
       "                                               comment_text  article  page  \\\n",
       "id                                                                           \n",
       "22256635  Nonsense?  kiss off, geek. what I said is true...        0     0   \n",
       "27450690  \"\\n\\n Please do not vandalize pages, as you di...        0     0   \n",
       "54037174  \"\\n\\n \"\"Points of interest\"\" \\n\\nI removed the...        0     0   \n",
       "77493077  Asking some his nationality is a Racial offenc...        0     0   \n",
       "79357270  The reader here is not going by my say so for ...        0     0   \n",
       "\n",
       "          wikipedia  talk  just  like  don  think  know ...   local  parts  \\\n",
       "id                                                      ...                  \n",
       "22256635          0     0     0     0    0      0     0 ...       0      0   \n",
       "27450690          0     0     0     0    0      0     0 ...       0      0   \n",
       "54037174          0     0     1     0    0      0     1 ...       0      0   \n",
       "77493077          0     0     0     0    0      0     0 ...       0      0   \n",
       "79357270          0     0     0     0    0      0     0 ...       0      0   \n",
       "\n",
       "          ways  speaking  supported  protected  hesitate  guideline  confirm  \\\n",
       "id                                                                             \n",
       "22256635     0         0          0          0         0          0        0   \n",
       "27450690     0         0          0          0         0          0        0   \n",
       "54037174     0         0          0          0         0          0        0   \n",
       "77493077     0         0          0          0         0          0        0   \n",
       "79357270     0         0          0          0         0          0        0   \n",
       "\n",
       "          pro  \n",
       "id             \n",
       "22256635    0  \n",
       "27450690    0  \n",
       "54037174    0  \n",
       "77493077    0  \n",
       "79357270    0  \n",
       "\n",
       "[5 rows x 1001 columns]"
      ]
     },
     "execution_count": 10,
     "metadata": {},
     "output_type": "execute_result"
    }
   ],
   "source": [
    "binary_counts.head()"
   ]
  },
  {
   "cell_type": "markdown",
   "metadata": {},
   "source": [
    "I notice a problem above, namely that the default word token for the CountVectorizer splits on apostrophes, which we probably don't want. This may need more research. That being said, our method of binary-vectorizing the comments worked well."
   ]
  },
  {
   "cell_type": "markdown",
   "metadata": {},
   "source": [
    "# Most Common Words Used in Wikipedia Comments"
   ]
  },
  {
   "cell_type": "code",
   "execution_count": 11,
   "metadata": {},
   "outputs": [],
   "source": [
    "word_frequencies = binary_counts.loc[:, 'article':].sum(axis=0)"
   ]
  },
  {
   "cell_type": "code",
   "execution_count": 14,
   "metadata": {},
   "outputs": [
    {
     "data": {
      "image/png": "[encoded data removed]",
      "text/plain": [
       "<matplotlib.figure.Figure at 0x22be91eb588>"
      ]
     },
     "metadata": {},
     "output_type": "display_data"
    }
   ],
   "source": [
    "ax = plt.bar(\n",
    "    range(10), \n",
    "    100 * word_frequencies.sort_values(ascending=False)[:10] / word_frequencies.sum(), \n",
    "    tick_label=binary_counts.columns[1:11]\n",
    ");"
   ]
  },
  {
   "cell_type": "markdown",
   "metadata": {},
   "source": [
    "Of the above top ten most commonly used words, the top four (article, page, wikipedia, talk) all relate directly to editing Wikipedia pages, as does the last one, 'edit'. The others, 'talk', 'just', 'like', 'don' (likely from don't, due to poor tokenization), 'think' and 'know'. Note that both 'think' and 'know' probably are being used by people expressing their opinions in a discussion, which 'just' and 'like' probably facilitate."
   ]
  },
  {
   "cell_type": "code",
   "execution_count": 15,
   "metadata": {},
   "outputs": [
    {
     "data": {
      "image/png": "[encoded data removed]",
      "text/plain": [
       "<matplotlib.figure.Figure at 0x22be91c0048>"
      ]
     },
     "metadata": {},
     "output_type": "display_data"
    }
   ],
   "source": [
    "word_frequencies.plot(kind='hist');"
   ]
  },
  {
   "cell_type": "markdown",
   "metadata": {},
   "source": [
    "# Observations\n",
    "\n",
    "## Possible indicators of toxicity:\n",
    "* Lots of punctuation (exclamation points, question marks)\n",
    "* All-caps or very inconsistent comments (textual screaming)\n",
    "* Curse words\n",
    "* Slurs\n",
    "\n",
    "## Data quality issues:\n",
    "* What is the best approach to comments that include Wikipedia markup or items like `=Removal from Anti-Semetic category===` and `Semi-protected edit request`? These could also indicate toxicity, particularly if they're indicative of moderator action against the commenter.\n",
    "* We need a better approach to tokenizing the data, since we have both the above issue and problems with apostrophes (and others I just didn't catch, no doubt).\n",
    "\n",
    "## Future EDA:\n",
    "* Correlates and word clouds for each toxicity\n",
    "* Principal component analysis\n",
    "* Topic analysis, other dimensionality analysis?\n",
    "* Feature engineering:\n",
    "    * Textual screaming\n",
    "    * Avg word length\n",
    "    * Obscenity/cursing index\n",
    "    * Measures of censorship/edits\n",
    "    \n",
    "# Analytical questions to consider moving forward:\n",
    "* Is there a realistic baseline model to use for our project? See ConversationAI's previous work.\n",
    "* What kinds of models would be appropriate here? The simplest is probably a naive bayes model, and the most complex would be neural networks. In-between would be the various regressions (softmax dependent variable) and support vector machines.\n",
    "* What's going to be our dimensionality reduction strategy? Since there are so many features to mine out of text data, we need a way to reduce it. The dimensionality analysis from EDA will be helpful here in identifying the best approach. Depending on the model, dimensionality reduction can be achieved in the same step as modeling.\n",
    "* "
   ]
  },
  {
   "cell_type": "code",
   "execution_count": null,
   "metadata": {},
   "outputs": [],
   "source": []
  }
 ],
 "metadata": {
  "kernelspec": {
   "display_name": "Python 3",
   "language": "python",
   "name": "python3"
  },
  "language_info": {
   "codemirror_mode": {
    "name": "ipython",
    "version": 3
   },
   "file_extension": ".py",
   "mimetype": "text/x-python",
   "name": "python",
   "nbconvert_exporter": "python",
   "pygments_lexer": "ipython3",
   "version": "3.6.1"
  }
 },
 "nbformat": 4,
 "nbformat_minor": 2
}
