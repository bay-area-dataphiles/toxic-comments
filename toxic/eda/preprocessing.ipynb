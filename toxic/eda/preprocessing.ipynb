{
 "cells": [
  {
   "cell_type": "markdown",
   "metadata": {},
   "source": [
    "# Feature Engineering & Preprocessing\n",
    "\n",
    "The purpose of this notebook is to come up with some interesting features and to deal with data cleaning, standardization, outlier removal, etc."
   ]
  },
  {
   "cell_type": "code",
   "execution_count": 1,
   "metadata": {
    "collapsed": true
   },
   "outputs": [
    {
     "name": "stdout",
     "output_type": "stream",
     "text": [
      "Exception reporting mode: Plain\n"
     ]
    }
   ],
   "source": [
    "from toxic import common\n",
    "\n",
    "import pandas as pd\n",
    "import numpy as np\n",
    "import matplotlib.pyplot as plt\n",
    "import seaborn as sns\n",
    "from wordcloud import WordCloud\n",
    "import string\n",
    "\n",
    "%xmode plain\n",
    "%matplotlib inline\n",
    "sns.set()\n",
    "# sns.set_style('darkgrid')\n",
    "\n",
    "from IPython.display import display\n",
    "\n",
    "from collections import OrderedDict\n",
    "from sklearn.neighbors import LocalOutlierFactor"
   ]
  },
  {
   "cell_type": "markdown",
   "metadata": {},
   "source": [
    "# The Data"
   ]
  },
  {
   "cell_type": "code",
   "execution_count": 2,
   "metadata": {},
   "outputs": [],
   "source": [
    "# train = common.gcs_to_df(blob='train.csv').set_index('id')\n",
    "# test = common.gcs_to_df(blob='test.csv').set_index('id')\n",
    "train = pd.read_csv('train.csv', index_col='id')"
   ]
  },
  {
   "cell_type": "code",
   "execution_count": 3,
   "metadata": {},
   "outputs": [
    {
     "data": {
      "text/html": [
       "<div>\n",
       "<style scoped>\n",
       "    .dataframe tbody tr th:only-of-type {\n",
       "        vertical-align: middle;\n",
       "    }\n",
       "\n",
       "    .dataframe tbody tr th {\n",
       "        vertical-align: top;\n",
       "    }\n",
       "\n",
       "    .dataframe thead th {\n",
       "        text-align: right;\n",
       "    }\n",
       "</style>\n",
       "<table border=\"1\" class=\"dataframe\">\n",
       "  <thead>\n",
       "    <tr style=\"text-align: right;\">\n",
       "      <th></th>\n",
       "      <th>comment_text</th>\n",
       "      <th>toxic</th>\n",
       "      <th>severe_toxic</th>\n",
       "      <th>obscene</th>\n",
       "      <th>threat</th>\n",
       "      <th>insult</th>\n",
       "      <th>identity_hate</th>\n",
       "      <th>is_toxic</th>\n",
       "    </tr>\n",
       "    <tr>\n",
       "      <th>id</th>\n",
       "      <th></th>\n",
       "      <th></th>\n",
       "      <th></th>\n",
       "      <th></th>\n",
       "      <th></th>\n",
       "      <th></th>\n",
       "      <th></th>\n",
       "      <th></th>\n",
       "    </tr>\n",
       "  </thead>\n",
       "  <tbody>\n",
       "    <tr>\n",
       "      <th>22256635</th>\n",
       "      <td>Nonsense?  kiss off, geek. what I said is true...</td>\n",
       "      <td>1</td>\n",
       "      <td>0</td>\n",
       "      <td>0</td>\n",
       "      <td>0</td>\n",
       "      <td>0</td>\n",
       "      <td>0</td>\n",
       "      <td>True</td>\n",
       "    </tr>\n",
       "    <tr>\n",
       "      <th>27450690</th>\n",
       "      <td>\"\\n\\n Please do not vandalize pages, as you di...</td>\n",
       "      <td>0</td>\n",
       "      <td>0</td>\n",
       "      <td>0</td>\n",
       "      <td>0</td>\n",
       "      <td>0</td>\n",
       "      <td>0</td>\n",
       "      <td>False</td>\n",
       "    </tr>\n",
       "    <tr>\n",
       "      <th>54037174</th>\n",
       "      <td>\"\\n\\n \"\"Points of interest\"\" \\n\\nI removed the...</td>\n",
       "      <td>0</td>\n",
       "      <td>0</td>\n",
       "      <td>0</td>\n",
       "      <td>0</td>\n",
       "      <td>0</td>\n",
       "      <td>0</td>\n",
       "      <td>False</td>\n",
       "    </tr>\n",
       "    <tr>\n",
       "      <th>77493077</th>\n",
       "      <td>Asking some his nationality is a Racial offenc...</td>\n",
       "      <td>0</td>\n",
       "      <td>0</td>\n",
       "      <td>0</td>\n",
       "      <td>0</td>\n",
       "      <td>0</td>\n",
       "      <td>0</td>\n",
       "      <td>False</td>\n",
       "    </tr>\n",
       "    <tr>\n",
       "      <th>79357270</th>\n",
       "      <td>The reader here is not going by my say so for ...</td>\n",
       "      <td>0</td>\n",
       "      <td>0</td>\n",
       "      <td>0</td>\n",
       "      <td>0</td>\n",
       "      <td>0</td>\n",
       "      <td>0</td>\n",
       "      <td>False</td>\n",
       "    </tr>\n",
       "  </tbody>\n",
       "</table>\n",
       "</div>"
      ],
      "text/plain": [
       "                                               comment_text  toxic  \\\n",
       "id                                                                   \n",
       "22256635  Nonsense?  kiss off, geek. what I said is true...      1   \n",
       "27450690  \"\\n\\n Please do not vandalize pages, as you di...      0   \n",
       "54037174  \"\\n\\n \"\"Points of interest\"\" \\n\\nI removed the...      0   \n",
       "77493077  Asking some his nationality is a Racial offenc...      0   \n",
       "79357270  The reader here is not going by my say so for ...      0   \n",
       "\n",
       "          severe_toxic  obscene  threat  insult  identity_hate  is_toxic  \n",
       "id                                                                        \n",
       "22256635             0        0       0       0              0      True  \n",
       "27450690             0        0       0       0              0     False  \n",
       "54037174             0        0       0       0              0     False  \n",
       "77493077             0        0       0       0              0     False  \n",
       "79357270             0        0       0       0              0     False  "
      ]
     },
     "execution_count": 3,
     "metadata": {},
     "output_type": "execute_result"
    }
   ],
   "source": [
    "train['is_toxic'] = train.loc[:, 'toxic':'identity_hate'].any(axis=1)\n",
    "target = train.loc[:, 'toxic':'identity_hate']\n",
    "train.head()"
   ]
  },
  {
   "cell_type": "markdown",
   "metadata": {},
   "source": [
    "# Best Parameters for Vectorization\n",
    "\n",
    "We would like to know the optimal representation of the term-document matrix. The best representation should minimize the loss of information which is related to our targets, so we can evaluate alternate term-document representations by scoring the predictions from a basic logistic regression."
   ]
  },
  {
   "cell_type": "code",
   "execution_count": 4,
   "metadata": {},
   "outputs": [],
   "source": [
    "from sklearn.feature_extraction.text import CountVectorizer, TfidfVectorizer\n",
    "corpus = train['comment_text']\n",
    "vectorizer = CountVectorizer(max_features=100, stop_words='english')\n",
    "vectorizer.fit(corpus)\n",
    "sparse = vectorizer.transform(corpus)"
   ]
  },
  {
   "cell_type": "code",
   "execution_count": 5,
   "metadata": {},
   "outputs": [
    {
     "data": {
      "text/plain": [
       "<5x100 sparse matrix of type '<class 'numpy.int64'>'\n",
       "\twith 25 stored elements in Compressed Sparse Row format>"
      ]
     },
     "execution_count": 5,
     "metadata": {},
     "output_type": "execute_result"
    }
   ],
   "source": [
    "sparse[:5]"
   ]
  },
  {
   "cell_type": "code",
   "execution_count": 6,
   "metadata": {},
   "outputs": [
    {
     "data": {
      "text/plain": [
       "<95851x2 sparse matrix of type '<class 'numpy.int64'>'\n",
       "\twith 7839 stored elements in Compressed Sparse Row format>"
      ]
     },
     "execution_count": 6,
     "metadata": {},
     "output_type": "execute_result"
    }
   ],
   "source": [
    "sparse[:, [1,2]]"
   ]
  },
  {
   "cell_type": "code",
   "execution_count": 7,
   "metadata": {},
   "outputs": [
    {
     "name": "stdout",
     "output_type": "stream",
     "text": [
      "Creating variables...\n",
      "Stemming vocabulary...\n",
      "Combining stem facet vectors...\n",
      "shape of empty matrix res: (95851, 0)\n",
      "Summing across stem facets...\n",
      "result stack shape: (95851, 85)\n",
      "Sorting result matrix...\n",
      "sorted index shape: (85,)\n",
      "sorted index: [42 24 27 23 48  3 28  7 36 53 30 63 57 15 61 80 25 16 39  9 12 47 65 77  6\n",
      " 26 64 40 58 41 52  4 75 35  1 49 19 81 38  5 84 59 54 55 71 68 62 33 60 13\n",
      " 44 76 67 78 73 37 72 66 79  8 45 32 69 46 51 74 83 29 20 31 14 22 43 21 10\n",
      " 50 56  2 11 82 18 17  0 34 70]\n",
      "Sorting vocabulary\n"
     ]
    }
   ],
   "source": [
    "\n",
    "from toxic.common import Stemmer\n",
    "stemmer = Stemmer(stemming='snowball')\n",
    "vocab_stemmed, sparse_stemmed = stemmer.transform(\n",
    "    td_matrix=sparse, \n",
    "    vocab=vectorizer.vocabulary_)"
   ]
  },
  {
   "cell_type": "code",
   "execution_count": 8,
   "metadata": {},
   "outputs": [
    {
     "data": {
      "text/plain": [
       "array(['articl', 'page', 'wikipedia', 'edit', 'talk', 'use', 'like',\n",
       "       'just', 'thank', 'don', 'sourc', 'delet', 'think', 'know', 'peopl',\n",
       "       'time', 'did', 'block', 'user', 'link', 'make', 'good', 'inform',\n",
       "       've', 'person', 'doe', 'comment', 'want', 'question', 'way', 'imag',\n",
       "       'thing', 'fuck', 'wp', 'help', 'new', 'need', 'say', 'section',\n",
       "       'discuss', 'realli', 'work', 'right', 'wiki', 'point', 'add',\n",
       "       'read', 'look', 'fact', 'll', 'said', 'list', 'go', 'content',\n",
       "       'stop', 'hi', 'histori', 'ad', 'http', 'editor', 'utc', 'remov',\n",
       "       'free', 'note', 'welcom', 'vandal', 'case', 'place', 'doesn',\n",
       "       'sure', 'reason', 'better', 'let', 'ask', 'feel', 'believ',\n",
       "       'actual', 'subject', 'best', 'polici', 'nigger', 'hope', 'com',\n",
       "       'didn', 'chang'],\n",
       "      dtype='<U9')"
      ]
     },
     "execution_count": 8,
     "metadata": {},
     "output_type": "execute_result"
    }
   ],
   "source": [
    "vocab_stemmed"
   ]
  },
  {
   "cell_type": "code",
   "execution_count": null,
   "metadata": {},
   "outputs": [],
   "source": [
    "sparse_stemmed.sum(axis=0)"
   ]
  },
  {
   "cell_type": "code",
   "execution_count": 9,
   "metadata": {},
   "outputs": [],
   "source": [
    "from sklearn.model_selection import GridSearchCV\n",
    "from sklearn.linear_model import LogisticRegression, LogisticRegressionCV\n",
    "from sklearn.pipeline import Pipeline\n",
    "\n",
    "from toxic.common import Stemmer\n",
    "\n",
    "max_features = [None]\n",
    "max_features.extend(np.logspace(0, 5, 10, dtype=np.float64).astype(int))\n",
    "\n",
    "param_grid = [\n",
    "    {\n",
    "        'vectorizer': [CountVectorizer()],\n",
    "        'vectorizer__ngram_range': [(1,1), (1,2)],\n",
    "        'vectorizer__stop_words': ['english', None],\n",
    "        'vectorizer__binary': [False, True],\n",
    "#         'vectorizer__lowercase': [True, False],\n",
    "#         'vectorizer__max_df': np.linspace(0, 1, 5),\n",
    "#         'vectorizer__min_df': np.linspace(0, 1, 5),\n",
    "        'vectorizer__max_features': max_features,\n",
    "        \n",
    "        'stemmer':[Stemmer()],\n",
    "        'stemmer__stemming': ['lancaster', 'snowball', 'wordnet'],\n",
    "        \n",
    "#         'model': [LogisticRegression()]\n",
    "        \n",
    "    },\n",
    "    {\n",
    "        'vectorizer': [TfidfVectorizer()],\n",
    "        'vectorizer__ngram_range': [(1,1), (1,2)],\n",
    "        'vectorizer__stop_words': ['english', None],\n",
    "        'vectorizer__binary': [False, True],\n",
    "        'vectorizer__lowercase': [True, False],\n",
    "#         'vectorizer__max_df': np.linspace(0, 1, 5),\n",
    "#         'vectorizer__min_df': np.linspace(0, 1, 5),\n",
    "        'vectorizer__max_features': max_features,\n",
    "        'vectorizer__norm': [None, 'l1', 'l2'],\n",
    "        'vectorizer__use_idf': [False, True],\n",
    "        'vectorizer__smooth_idf': [False, True],\n",
    "        'vectorizer__sublinar_tf': [False, True],\n",
    "        \n",
    "        'stemmer': [Stemmer()],\n",
    "        'stemmer__stemming': ['lancaster', 'snowball', 'wordnet'],\n",
    "        \n",
    "#         'model': [LogisticRegression()]\n",
    "    },\n",
    "]\n",
    "\n",
    "textRepresentationPipeline = Pipeline([\n",
    "    ('vectorizer', CountVectorizer()),\n",
    "    ('stemmer', Stemmer()),\n",
    "    ('model', LogisticRegression_mod())\n",
    "])\n",
    "\n",
    "grid = GridSearchCV(\n",
    "    textRepresentationPipeline, \n",
    "    param_grid=param_grid, \n",
    "    cv=3, \n",
    "#     n_jobs=6, \n",
    "    verbose=10)"
   ]
  },
  {
   "cell_type": "code",
   "execution_count": 11,
   "metadata": {},
   "outputs": [
    {
     "name": "stdout",
     "output_type": "stream",
     "text": [
      "Exception reporting mode: Plain\n",
      "Fitting 3 folds for each of 12936 candidates, totalling 38808 fits\n",
      "[CV] vectorizer__ngram_range=(1, 1), stemmer=Stemmer(stemming='lancaster'), vectorizer__stop_words=english, vectorizer=CountVectorizer(analyzer='word', binary=False, decode_error='strict',\n",
      "        dtype=<class 'numpy.int64'>, encoding='utf-8', input='content',\n",
      "        lowercase=True, max_df=1.0, max_features=None, min_df=1,\n",
      "        ngram_range=(1, 1), preprocessor=None, stop_words='english',\n",
      "        strip_accents=None, token_pattern='(?u)\\\\b\\\\w\\\\w+\\\\b',\n",
      "        tokenizer=None, vocabulary=None), stemmer__stemming=lancaster, vectorizer__binary=False, vectorizer__max_features=None \n"
     ]
    },
    {
     "ename": "TypeError",
     "evalue": "transform() takes 1 positional argument but 2 were given",
     "output_type": "error",
     "traceback": [
      "Traceback \u001b[1;36m(most recent call last)\u001b[0m:\n",
      "  File \u001b[0;32m\"<ipython-input-11-00144a23d8ce>\"\u001b[0m, line \u001b[0;32m5\u001b[0m, in \u001b[0;35m<module>\u001b[0m\n    grid.fit(corpus.values, target)\n",
      "  File \u001b[0;32m\"C:\\Anaconda3\\envs\\toxic\\lib\\site-packages\\sklearn\\model_selection\\_search.py\"\u001b[0m, line \u001b[0;32m639\u001b[0m, in \u001b[0;35mfit\u001b[0m\n    cv.split(X, y, groups)))\n",
      "  File \u001b[0;32m\"C:\\Anaconda3\\envs\\toxic\\lib\\site-packages\\sklearn\\externals\\joblib\\parallel.py\"\u001b[0m, line \u001b[0;32m779\u001b[0m, in \u001b[0;35m__call__\u001b[0m\n    while self.dispatch_one_batch(iterator):\n",
      "  File \u001b[0;32m\"C:\\Anaconda3\\envs\\toxic\\lib\\site-packages\\sklearn\\externals\\joblib\\parallel.py\"\u001b[0m, line \u001b[0;32m625\u001b[0m, in \u001b[0;35mdispatch_one_batch\u001b[0m\n    self._dispatch(tasks)\n",
      "  File \u001b[0;32m\"C:\\Anaconda3\\envs\\toxic\\lib\\site-packages\\sklearn\\externals\\joblib\\parallel.py\"\u001b[0m, line \u001b[0;32m588\u001b[0m, in \u001b[0;35m_dispatch\u001b[0m\n    job = self._backend.apply_async(batch, callback=cb)\n",
      "  File \u001b[0;32m\"C:\\Anaconda3\\envs\\toxic\\lib\\site-packages\\sklearn\\externals\\joblib\\_parallel_backends.py\"\u001b[0m, line \u001b[0;32m111\u001b[0m, in \u001b[0;35mapply_async\u001b[0m\n    result = ImmediateResult(func)\n",
      "  File \u001b[0;32m\"C:\\Anaconda3\\envs\\toxic\\lib\\site-packages\\sklearn\\externals\\joblib\\_parallel_backends.py\"\u001b[0m, line \u001b[0;32m332\u001b[0m, in \u001b[0;35m__init__\u001b[0m\n    self.results = batch()\n",
      "  File \u001b[0;32m\"C:\\Anaconda3\\envs\\toxic\\lib\\site-packages\\sklearn\\externals\\joblib\\parallel.py\"\u001b[0m, line \u001b[0;32m131\u001b[0m, in \u001b[0;35m__call__\u001b[0m\n    return [func(*args, **kwargs) for func, args, kwargs in self.items]\n",
      "  File \u001b[0;32m\"C:\\Anaconda3\\envs\\toxic\\lib\\site-packages\\sklearn\\externals\\joblib\\parallel.py\"\u001b[0m, line \u001b[0;32m131\u001b[0m, in \u001b[0;35m<listcomp>\u001b[0m\n    return [func(*args, **kwargs) for func, args, kwargs in self.items]\n",
      "  File \u001b[0;32m\"C:\\Anaconda3\\envs\\toxic\\lib\\site-packages\\sklearn\\model_selection\\_validation.py\"\u001b[0m, line \u001b[0;32m458\u001b[0m, in \u001b[0;35m_fit_and_score\u001b[0m\n    estimator.fit(X_train, y_train, **fit_params)\n",
      "  File \u001b[0;32m\"C:\\Anaconda3\\envs\\toxic\\lib\\site-packages\\sklearn\\pipeline.py\"\u001b[0m, line \u001b[0;32m248\u001b[0m, in \u001b[0;35mfit\u001b[0m\n    Xt, fit_params = self._fit(X, y, **fit_params)\n",
      "  File \u001b[0;32m\"C:\\Anaconda3\\envs\\toxic\\lib\\site-packages\\sklearn\\pipeline.py\"\u001b[0m, line \u001b[0;32m213\u001b[0m, in \u001b[0;35m_fit\u001b[0m\n    **fit_params_steps[name])\n",
      "  File \u001b[0;32m\"C:\\Anaconda3\\envs\\toxic\\lib\\site-packages\\sklearn\\externals\\joblib\\memory.py\"\u001b[0m, line \u001b[0;32m362\u001b[0m, in \u001b[0;35m__call__\u001b[0m\n    return self.func(*args, **kwargs)\n",
      "  File \u001b[0;32m\"C:\\Anaconda3\\envs\\toxic\\lib\\site-packages\\sklearn\\pipeline.py\"\u001b[0m, line \u001b[0;32m581\u001b[0m, in \u001b[0;35m_fit_transform_one\u001b[0m\n    res = transformer.fit_transform(X, y, **fit_params)\n",
      "\u001b[1;36m  File \u001b[1;32m\"C:\\Anaconda3\\envs\\toxic\\lib\\site-packages\\sklearn\\base.py\"\u001b[1;36m, line \u001b[1;32m520\u001b[1;36m, in \u001b[1;35mfit_transform\u001b[1;36m\u001b[0m\n\u001b[1;33m    return self.fit(X, y, **fit_params).transform(X)\u001b[0m\n",
      "\u001b[1;31mTypeError\u001b[0m\u001b[1;31m:\u001b[0m transform() takes 1 positional argument but 2 were given\n"
     ]
    }
   ],
   "source": [
    "%xmode plain\n",
    "# %xmode verbose\n",
    "from sklearn.metrics import log_loss\n",
    "\n",
    "grid.fit(corpus.values, target)"
   ]
  },
  {
   "cell_type": "code",
   "execution_count": 27,
   "metadata": {},
   "outputs": [
    {
     "ename": "NotFittedError",
     "evalue": "This GridSearchCV instance is not fitted yet. Call 'fit' with appropriate arguments before using this method.",
     "output_type": "error",
     "traceback": [
      "\u001b[1;31m---------------------------------------------------------------------------\u001b[0m",
      "\u001b[1;31mNotFittedError\u001b[0m                            Traceback (most recent call last)",
      "\u001b[1;32m<ipython-input-27-5d88caa180b0>\u001b[0m in \u001b[0;36m<module>\u001b[1;34m()\u001b[0m\n\u001b[1;32m----> 1\u001b[1;33m \u001b[0mgrid\u001b[0m\u001b[1;33m.\u001b[0m\u001b[0mpredict_proba\u001b[0m\u001b[1;33m(\u001b[0m\u001b[0mcorpus\u001b[0m\u001b[1;33m)\u001b[0m\u001b[1;33m\u001b[0m\u001b[0m\n\u001b[0m        \u001b[1;36mglobal\u001b[0m \u001b[0;36mgrid.predict_proba\u001b[0m \u001b[1;34m= <function BaseSearchCV.predict_proba at 0x0000016643EE5B70>\u001b[0m\u001b[1;34m\n        \u001b[0m\u001b[1;36mglobal\u001b[0m \u001b[0;36mcorpus\u001b[0m \u001b[1;34m= id\n22256635        Nonsense?  kiss off, geek. what I said is true...\n27450690        \"\\n\\n Please do not vandalize pages, as you di...\n54037174        \"\\n\\n \"\"Points of interest\"\" \\n\\nI removed the...\n77493077        Asking some his nationality is a Racial offenc...\n79357270        The reader here is not going by my say so for ...\n82428052            Fried chickens \\n\\nIs dat sum fried chickens?\n87311443        Why can you put English for example on some pl...\n114749757       Guy Fawkes \\n\\nim a resident in bridgwater and...\n138560519       as far as nicknames go this article is embarra...\n139353149       Woodland Meadows\\nGood to hear that you correc...\n150009866       \"\\n\\nWell I just finished a good bit of editin...\n152276337       Discussion should take place on the article ta...\n153331729       Uh oh, you called my bluff. I am intimidated b...\n153600803       \"\\nWe should also contact the living descendan...\n154186883       \" May 2008 (UTC)\\n\\nNotability of Your New Hea...\n161894108       \"\\n\\nWhile I agree that this article isn't FA ...\n169740962       a Turkish citizen and him having received an a...\n178084608       Please explain why censorship of quality addit...\n208005265       In any case, this edit war will last forever. ...\n224733383       \"\\n\\n \"\"Vandalism\"\" of George Washington \\n\\nW...\n225701312       Why hasn't Alitalia been removed rom the allia...\n237279459       \"\\n\\n Another AfD stats example \\n\\nI hope you...\n254015372       \"\\nI will ;). How about... ah, I've got nothin...\n280570905       \":I have moved some tedious detail in \"\"Survey...\n284253328       @AnnieHall, what separates this from capitalis...\n287371884       .  and its also not random, it was the first c...\n293668009       \"\\nThe Graceful Slick....\\nIs non other than a...\n300891545       \"====Regarding edits made during December 2 20...\n307040060       \"::The section is now called \"\"Discrepancies a...\n340940431       \"\\n\\n Smackdown! \\n\\nGood smackdown on Qatar, ...\n                                      ...                        \n999674711016    Gods. I'm an Anglo-Norman-ist, really, not an ...\n999677373048    \"==T. COTTON LETTER TO THE AYATOLLAHS OF IRAN=...\n999693619845    Much appreciated \\n\\nThank you! Yours is my fi...\n999714130533    I do apologize once more to you for my unkind ...\n999716611707    It has been confirmed that Raul has joined FC ...\n999731184003    \"\\nThat an article is \"\"more than a definition...\n999741263322    Calling someone the archetypical unscientific ...\n999744390044    Just pointing out that if you intend to keep a...\n999749161210    I'm sorry for not noticing that on the article...\n999776197636    Can I just say, no-one cares about your opinio...\n999781781533    See Wikipedia:Administrators#Misuse_of_adminis...\n999825778693    December 2010\\nPlease stop the foolish edits t...\n999829405247          Another Unblock Request \\n\\n 137.240.136.80\n999856640855                     so this can finally be over with\n999883234532    Oh, okay. Fair enough, then. Thanks for making...\n999887342595    \"\\nI believe you're out of line. You're specul...\n999888096837       , 22 April 2007 (UTC)\\n\\nSecond-hander.  21:45\n999898414104           \"\\nIt's staying. Let's move on.  Corbett \"\n999903896729    \"\\n\\n Conflict of Interest \\n\\nPm_shef: This i...\n999909788460    \"\\nPerhaps the single most potent way to balan...\n999912713635    \"\\n Please don't bother. I was just wondering....\n999939579242    The article The eighth sea has been speedily d...\n999945355747    Each alum agrees to how much information can b...\n999950278781    \"\\n\\n Caucasion vs. white \\n\\nI noticed that t...\n999976306590    This culture allows people to hold their wives...\n999977655955    \"\\nI have discussed it, unlike most of those w...\n999982426659    ps. Almost forgot, Paine don't reply back to t...\n999982764066    Mamoun Darkazanli\\nFor some reason I am unable...\n999986890563    Salafi would be a better term. It is more poli...\n999988164717    making wikipedia a better and more inviting pl...\nName: comment_text, Length: 95851, dtype: object\u001b[0m\n",
      "\u001b[1;32mC:\\Anaconda3\\envs\\toxic\\lib\\site-packages\\sklearn\\utils\\metaestimators.py\u001b[0m in \u001b[0;36m<lambda>\u001b[1;34m(*args=(id\n22256635        Nonsense?  kiss off, geek. wh...\nName: comment_text, Length: 95851, dtype: object,), **kwargs={})\u001b[0m\n\u001b[0;32m    113\u001b[0m \u001b[1;33m\u001b[0m\u001b[0m\n\u001b[0;32m    114\u001b[0m         \u001b[1;31m# lambda, but not partial, allows help() to work with update_wrapper\u001b[0m\u001b[1;33m\u001b[0m\u001b[1;33m\u001b[0m\u001b[0m\n\u001b[1;32m--> 115\u001b[1;33m         \u001b[0mout\u001b[0m \u001b[1;33m=\u001b[0m \u001b[1;32mlambda\u001b[0m \u001b[1;33m*\u001b[0m\u001b[0margs\u001b[0m\u001b[1;33m,\u001b[0m \u001b[1;33m**\u001b[0m\u001b[0mkwargs\u001b[0m\u001b[1;33m:\u001b[0m \u001b[0mself\u001b[0m\u001b[1;33m.\u001b[0m\u001b[0mfn\u001b[0m\u001b[1;33m(\u001b[0m\u001b[0mobj\u001b[0m\u001b[1;33m,\u001b[0m \u001b[1;33m*\u001b[0m\u001b[0margs\u001b[0m\u001b[1;33m,\u001b[0m \u001b[1;33m**\u001b[0m\u001b[0mkwargs\u001b[0m\u001b[1;33m)\u001b[0m\u001b[1;33m\u001b[0m\u001b[0m\n\u001b[0m        \u001b[1;36mglobal\u001b[0m \u001b[0;36mout\u001b[0m \u001b[1;34m= \u001b[1;36mundefined\u001b[0m\u001b[0m\u001b[1;34m\n        \u001b[0m\u001b[0;36margs\u001b[0m \u001b[1;34m= (id\n22256635        Nonsense?  kiss off, geek. what I said is true...\n27450690        \"\\n\\n Please do not vandalize pages, as you di...\n54037174        \"\\n\\n \"\"Points of interest\"\" \\n\\nI removed the...\n77493077        Asking some his nationality is a Racial offenc...\n79357270        The reader here is not going by my say so for ...\n82428052            Fried chickens \\n\\nIs dat sum fried chickens?\n87311443        Why can you put English for example on some pl...\n114749757       Guy Fawkes \\n\\nim a resident in bridgwater and...\n138560519       as far as nicknames go this article is embarra...\n139353149       Woodland Meadows\\nGood to hear that you correc...\n150009866       \"\\n\\nWell I just finished a good bit of editin...\n152276337       Discussion should take place on the article ta...\n153331729       Uh oh, you called my bluff. I am intimidated b...\n153600803       \"\\nWe should also contact the living descendan...\n154186883       \" May 2008 (UTC)\\n\\nNotability of Your New Hea...\n161894108       \"\\n\\nWhile I agree that this article isn't FA ...\n169740962       a Turkish citizen and him having received an a...\n178084608       Please explain why censorship of quality addit...\n208005265       In any case, this edit war will last forever. ...\n224733383       \"\\n\\n \"\"Vandalism\"\" of George Washington \\n\\nW...\n225701312       Why hasn't Alitalia been removed rom the allia...\n237279459       \"\\n\\n Another AfD stats example \\n\\nI hope you...\n254015372       \"\\nI will ;). How about... ah, I've got nothin...\n280570905       \":I have moved some tedious detail in \"\"Survey...\n284253328       @AnnieHall, what separates this from capitalis...\n287371884       .  and its also not random, it was the first c...\n293668009       \"\\nThe Graceful Slick....\\nIs non other than a...\n300891545       \"====Regarding edits made during December 2 20...\n307040060       \"::The section is now called \"\"Discrepancies a...\n340940431       \"\\n\\n Smackdown! \\n\\nGood smackdown on Qatar, ...\n                                      ...                        \n999674711016    Gods. I'm an Anglo-Norman-ist, really, not an ...\n999677373048    \"==T. COTTON LETTER TO THE AYATOLLAHS OF IRAN=...\n999693619845    Much appreciated \\n\\nThank you! Yours is my fi...\n999714130533    I do apologize once more to you for my unkind ...\n999716611707    It has been confirmed that Raul has joined FC ...\n999731184003    \"\\nThat an article is \"\"more than a definition...\n999741263322    Calling someone the archetypical unscientific ...\n999744390044    Just pointing out that if you intend to keep a...\n999749161210    I'm sorry for not noticing that on the article...\n999776197636    Can I just say, no-one cares about your opinio...\n999781781533    See Wikipedia:Administrators#Misuse_of_adminis...\n999825778693    December 2010\\nPlease stop the foolish edits t...\n999829405247          Another Unblock Request \\n\\n 137.240.136.80\n999856640855                     so this can finally be over with\n999883234532    Oh, okay. Fair enough, then. Thanks for making...\n999887342595    \"\\nI believe you're out of line. You're specul...\n999888096837       , 22 April 2007 (UTC)\\n\\nSecond-hander.  21:45\n999898414104           \"\\nIt's staying. Let's move on.  Corbett \"\n999903896729    \"\\n\\n Conflict of Interest \\n\\nPm_shef: This i...\n999909788460    \"\\nPerhaps the single most potent way to balan...\n999912713635    \"\\n Please don't bother. I was just wondering....\n999939579242    The article The eighth sea has been speedily d...\n999945355747    Each alum agrees to how much information can b...\n999950278781    \"\\n\\n Caucasion vs. white \\n\\nI noticed that t...\n999976306590    This culture allows people to hold their wives...\n999977655955    \"\\nI have discussed it, unlike most of those w...\n999982426659    ps. Almost forgot, Paine don't reply back to t...\n999982764066    Mamoun Darkazanli\\nFor some reason I am unable...\n999986890563    Salafi would be a better term. It is more poli...\n999988164717    making wikipedia a better and more inviting pl...\nName: comment_text, Length: 95851, dtype: object,)\u001b[0m\u001b[1;34m\n        \u001b[0m\u001b[0;36mkwargs\u001b[0m \u001b[1;34m= {}\u001b[0m\u001b[1;34m\n        \u001b[0m\u001b[1;36mglobal\u001b[0m \u001b[0;36mself.fn\u001b[0m \u001b[1;34m= \u001b[1;36mundefined\u001b[0m\u001b[0m\u001b[1;34m\n        \u001b[0m\u001b[1;36mglobal\u001b[0m \u001b[0;36mobj\u001b[0m \u001b[1;34m= \u001b[1;36mundefined\u001b[0m\u001b[0m\n\u001b[0;32m    116\u001b[0m         \u001b[1;31m# update the docstring of the returned function\u001b[0m\u001b[1;33m\u001b[0m\u001b[1;33m\u001b[0m\u001b[0m\n\u001b[0;32m    117\u001b[0m         \u001b[0mupdate_wrapper\u001b[0m\u001b[1;33m(\u001b[0m\u001b[0mout\u001b[0m\u001b[1;33m,\u001b[0m \u001b[0mself\u001b[0m\u001b[1;33m.\u001b[0m\u001b[0mfn\u001b[0m\u001b[1;33m)\u001b[0m\u001b[1;33m\u001b[0m\u001b[0m\n",
      "\u001b[1;32mC:\\Anaconda3\\envs\\toxic\\lib\\site-packages\\sklearn\\model_selection\\_search.py\u001b[0m in \u001b[0;36mpredict_proba\u001b[1;34m(self=GridSearchCV(cv=3, error_score='raise',\n       e...in_score='warn',\n       scoring=None, verbose=10), X=id\n22256635        Nonsense?  kiss off, geek. wh...\nName: comment_text, Length: 95851, dtype: object)\u001b[0m\n\u001b[0;32m    481\u001b[0m \u001b[1;33m\u001b[0m\u001b[0m\n\u001b[0;32m    482\u001b[0m         \"\"\"\n\u001b[1;32m--> 483\u001b[1;33m         \u001b[0mself\u001b[0m\u001b[1;33m.\u001b[0m\u001b[0m_check_is_fitted\u001b[0m\u001b[1;33m(\u001b[0m\u001b[1;34m'predict_proba'\u001b[0m\u001b[1;33m)\u001b[0m\u001b[1;33m\u001b[0m\u001b[0m\n\u001b[0m        \u001b[0;36mself._check_is_fitted\u001b[0m \u001b[1;34m= <bound method BaseSearchCV._check_is_fitted of GridSearchCV(cv=3, error_score='raise',\n       estimator=Pipeline(memory=None,\n     steps=[('vectorizer', CountVectorizer(analyzer='word', binary=False, decode_error='strict',\n        dtype=<class 'numpy.int64'>, encoding='utf-8', input='content',\n        lowercase=True, max_df=1.0, max_features=None, min_df=1,\n        ngram_range=(1, 1), preprocessor=None, stop_words=None,\n       ...ty='l2', random_state=None, solver='liblinear', tol=0.0001,\n          verbose=0, warm_start=False))]),\n       fit_params=None, iid=True, n_jobs=1,\n       param_grid=[{'vectorizer__max_features': [None, 1, 3, 12, 46, 166, 599, 2154, 7742, 27825, 100000], 'vectorizer__ngram_range': [(1, 1), (1, 2)], 'vectorizer__binary': [False, True], 'vectorizer__lowercase': [True, False], 'vectorizer__stop_words': ['english', None], 'vectorizer__min_df': array([ 0. ...rizer__max_df': array([ 0.  ,  0.25,  0.5 ,  0.75,  1.  ]), 'vectorizer__norm': [None, 'l1', 'l2']}],\n       pre_dispatch='2*n_jobs', refit=True, return_train_score='warn',\n       scoring=None, verbose=10)>\u001b[0m\n\u001b[0;32m    484\u001b[0m         \u001b[1;32mreturn\u001b[0m \u001b[0mself\u001b[0m\u001b[1;33m.\u001b[0m\u001b[0mbest_estimator_\u001b[0m\u001b[1;33m.\u001b[0m\u001b[0mpredict_proba\u001b[0m\u001b[1;33m(\u001b[0m\u001b[0mX\u001b[0m\u001b[1;33m)\u001b[0m\u001b[1;33m\u001b[0m\u001b[0m\n\u001b[0;32m    485\u001b[0m \u001b[1;33m\u001b[0m\u001b[0m\n",
      "\u001b[1;32mC:\\Anaconda3\\envs\\toxic\\lib\\site-packages\\sklearn\\model_selection\\_search.py\u001b[0m in \u001b[0;36m_check_is_fitted\u001b[1;34m(self=GridSearchCV(cv=3, error_score='raise',\n       e...in_score='warn',\n       scoring=None, verbose=10), method_name='predict_proba')\u001b[0m\n\u001b[0;32m    448\u001b[0m                                  % (type(self).__name__, method_name))\n\u001b[0;32m    449\u001b[0m         \u001b[1;32melse\u001b[0m\u001b[1;33m:\u001b[0m\u001b[1;33m\u001b[0m\u001b[0m\n\u001b[1;32m--> 450\u001b[1;33m             \u001b[0mcheck_is_fitted\u001b[0m\u001b[1;33m(\u001b[0m\u001b[0mself\u001b[0m\u001b[1;33m,\u001b[0m \u001b[1;34m'best_estimator_'\u001b[0m\u001b[1;33m)\u001b[0m\u001b[1;33m\u001b[0m\u001b[0m\n\u001b[0m        \u001b[1;36mglobal\u001b[0m \u001b[0;36mcheck_is_fitted\u001b[0m \u001b[1;34m= <function check_is_fitted at 0x00000166210149D8>\u001b[0m\u001b[1;34m\n        \u001b[0m\u001b[0;36mself\u001b[0m \u001b[1;34m= GridSearchCV(cv=3, error_score='raise',\n       estimator=Pipeline(memory=None,\n     steps=[('vectorizer', CountVectorizer(analyzer='word', binary=False, decode_error='strict',\n        dtype=<class 'numpy.int64'>, encoding='utf-8', input='content',\n        lowercase=True, max_df=1.0, max_features=None, min_df=1,\n        ngram_range=(1, 1), preprocessor=None, stop_words=None,\n       ...ty='l2', random_state=None, solver='liblinear', tol=0.0001,\n          verbose=0, warm_start=False))]),\n       fit_params=None, iid=True, n_jobs=1,\n       param_grid=[{'vectorizer__max_features': [None, 1, 3, 12, 46, 166, 599, 2154, 7742, 27825, 100000], 'vectorizer__ngram_range': [(1, 1), (1, 2)], 'vectorizer__binary': [False, True], 'vectorizer__lowercase': [True, False], 'vectorizer__stop_words': ['english', None], 'vectorizer__min_df': array([ 0. ...rizer__max_df': array([ 0.  ,  0.25,  0.5 ,  0.75,  1.  ]), 'vectorizer__norm': [None, 'l1', 'l2']}],\n       pre_dispatch='2*n_jobs', refit=True, return_train_score='warn',\n       scoring=None, verbose=10)\u001b[0m\n\u001b[0;32m    451\u001b[0m \u001b[1;33m\u001b[0m\u001b[0m\n\u001b[0;32m    452\u001b[0m     \u001b[1;33m@\u001b[0m\u001b[0mif_delegate_has_method\u001b[0m\u001b[1;33m(\u001b[0m\u001b[0mdelegate\u001b[0m\u001b[1;33m=\u001b[0m\u001b[1;33m(\u001b[0m\u001b[1;34m'best_estimator_'\u001b[0m\u001b[1;33m,\u001b[0m \u001b[1;34m'estimator'\u001b[0m\u001b[1;33m)\u001b[0m\u001b[1;33m)\u001b[0m\u001b[1;33m\u001b[0m\u001b[0m\n",
      "\u001b[1;32mC:\\Anaconda3\\envs\\toxic\\lib\\site-packages\\sklearn\\utils\\validation.py\u001b[0m in \u001b[0;36mcheck_is_fitted\u001b[1;34m(estimator=GridSearchCV(cv=3, error_score='raise',\n       e...in_score='warn',\n       scoring=None, verbose=10), attributes=['best_estimator_'], msg=\"This %(name)s instance is not fitted yet. Call '...h appropriate arguments before using this method.\", all_or_any=<built-in function all>)\u001b[0m\n\u001b[0;32m    766\u001b[0m \u001b[1;33m\u001b[0m\u001b[0m\n\u001b[0;32m    767\u001b[0m     \u001b[1;32mif\u001b[0m \u001b[1;32mnot\u001b[0m \u001b[0mall_or_any\u001b[0m\u001b[1;33m(\u001b[0m\u001b[1;33m[\u001b[0m\u001b[0mhasattr\u001b[0m\u001b[1;33m(\u001b[0m\u001b[0mestimator\u001b[0m\u001b[1;33m,\u001b[0m \u001b[0mattr\u001b[0m\u001b[1;33m)\u001b[0m \u001b[1;32mfor\u001b[0m \u001b[0mattr\u001b[0m \u001b[1;32min\u001b[0m \u001b[0mattributes\u001b[0m\u001b[1;33m]\u001b[0m\u001b[1;33m)\u001b[0m\u001b[1;33m:\u001b[0m\u001b[1;33m\u001b[0m\u001b[0m\n\u001b[1;32m--> 768\u001b[1;33m         \u001b[1;32mraise\u001b[0m \u001b[0mNotFittedError\u001b[0m\u001b[1;33m(\u001b[0m\u001b[0mmsg\u001b[0m \u001b[1;33m%\u001b[0m \u001b[1;33m{\u001b[0m\u001b[1;34m'name'\u001b[0m\u001b[1;33m:\u001b[0m \u001b[0mtype\u001b[0m\u001b[1;33m(\u001b[0m\u001b[0mestimator\u001b[0m\u001b[1;33m)\u001b[0m\u001b[1;33m.\u001b[0m\u001b[0m__name__\u001b[0m\u001b[1;33m}\u001b[0m\u001b[1;33m)\u001b[0m\u001b[1;33m\u001b[0m\u001b[0m\n\u001b[0m        \u001b[1;36mglobal\u001b[0m \u001b[0;36mNotFittedError\u001b[0m \u001b[1;34m= <class 'sklearn.exceptions.NotFittedError'>\u001b[0m\u001b[1;34m\n        \u001b[0m\u001b[0;36mmsg\u001b[0m \u001b[1;34m= \"This %(name)s instance is not fitted yet. Call 'fit' with appropriate arguments before using this method.\"\u001b[0m\u001b[1;34m\n        \u001b[0m\u001b[1;36mglobal\u001b[0m \u001b[0;36mtype\u001b[0m \u001b[1;34m= \u001b[1;36mundefined\u001b[0m\u001b[0m\u001b[1;34m\n        \u001b[0m\u001b[0;36mestimator.__name__\u001b[0m \u001b[1;34m= \u001b[1;36mundefined\u001b[0m\u001b[0m\n\u001b[0;32m    769\u001b[0m \u001b[1;33m\u001b[0m\u001b[0m\n\u001b[0;32m    770\u001b[0m \u001b[1;33m\u001b[0m\u001b[0m\n",
      "\u001b[1;31mNotFittedError\u001b[0m: This GridSearchCV instance is not fitted yet. Call 'fit' with appropriate arguments before using this method."
     ]
    }
   ],
   "source": [
    "grid.predict_proba(corpus)"
   ]
  },
  {
   "cell_type": "markdown",
   "metadata": {},
   "source": [
    "# Comment Length\n"
   ]
  },
  {
   "cell_type": "markdown",
   "metadata": {},
   "source": [
    "## Characters\n"
   ]
  },
  {
   "cell_type": "code",
   "execution_count": 4,
   "metadata": {},
   "outputs": [
    {
     "data": {
      "image/png": "[encoded data removed]",
      "text/plain": [
       "<matplotlib.figure.Figure at 0x1a1a3389fd0>"
      ]
     },
     "metadata": {},
     "output_type": "display_data"
    }
   ],
   "source": [
    "train['char_counts'] = train['comment_text'].str.len()\n",
    "fig = common.density_plot(train, 'char_counts', train['is_toxic']);\n",
    "fig.suptitle('char_counts');"
   ]
  },
  {
   "cell_type": "code",
   "execution_count": 5,
   "metadata": {},
   "outputs": [
    {
     "data": {
      "text/plain": [
       "count    95851\n",
       "mean       395\n",
       "std        595\n",
       "min          6\n",
       "25%         96\n",
       "50%        206\n",
       "75%        435\n",
       "max       5000\n",
       "Name: char_counts, dtype: int32"
      ]
     },
     "execution_count": 5,
     "metadata": {},
     "output_type": "execute_result"
    }
   ],
   "source": [
    "train['char_counts'].describe().astype(int)"
   ]
  },
  {
   "cell_type": "code",
   "execution_count": 6,
   "metadata": {},
   "outputs": [
    {
     "data": {
      "image/png": "[encoded data removed]",
      "text/plain": [
       "<matplotlib.figure.Figure at 0x1a1a4d41668>"
      ]
     },
     "metadata": {},
     "output_type": "display_data"
    }
   ],
   "source": [
    "long = train['comment_text'][train['char_counts']==train['char_counts'].max()]\n",
    "f = plt.figure()\n",
    "ax = plt.subplot(111)\n",
    "ax = common.plot_wordcloud_to_axis(' '.join(long.values), ax=ax);\n",
    "ax.set_title('Vocab of the Longest Comments (5000 chars)');"
   ]
  },
  {
   "cell_type": "code",
   "execution_count": 7,
   "metadata": {},
   "outputs": [
    {
     "ename": "KeyboardInterrupt",
     "evalue": "",
     "output_type": "error",
     "traceback": [
      "Traceback \u001b[1;36m(most recent call last)\u001b[0m:\n",
      "  File \u001b[0;32m\"<ipython-input-7-877141f46b48>\"\u001b[0m, line \u001b[0;32m13\u001b[0m, in \u001b[0;35m<module>\u001b[0m\n    ax2 = common.plot_wordcloud_to_axis(' '.join(long.values), ax=ax2);\n",
      "  File \u001b[0;32m\"C:\\Anaconda3\\envs\\toxic\\lib\\site-packages\\toxic\\common.py\"\u001b[0m, line \u001b[0;32m25\u001b[0m, in \u001b[0;35mplot_wordcloud_to_axis\u001b[0m\n    cloud = cloud_obj.generate(cloud_string)\n",
      "  File \u001b[0;32m\"C:\\Anaconda3\\envs\\toxic\\lib\\site-packages\\wordcloud\\wordcloud.py\"\u001b[0m, line \u001b[0;32m463\u001b[0m, in \u001b[0;35mgenerate\u001b[0m\n    return self.generate_from_text(text)\n",
      "  File \u001b[0;32m\"C:\\Anaconda3\\envs\\toxic\\lib\\site-packages\\wordcloud\\wordcloud.py\"\u001b[0m, line \u001b[0;32m448\u001b[0m, in \u001b[0;35mgenerate_from_text\u001b[0m\n    words = self.process_text(text)\n",
      "\u001b[1;36m  File \u001b[1;32m\"C:\\Anaconda3\\envs\\toxic\\lib\\site-packages\\wordcloud\\wordcloud.py\"\u001b[1;36m, line \u001b[1;32m401\u001b[1;36m, in \u001b[1;35mprocess_text\u001b[1;36m\u001b[0m\n\u001b[1;33m    word_lower = word.lower()\u001b[0m\n",
      "\u001b[1;31mKeyboardInterrupt\u001b[0m\n"
     ]
    },
    {
     "data": {
      "image/png": "[encoded data removed]",
      "text/plain": [
       "<matplotlib.figure.Figure at 0x1a1a4dd9780>"
      ]
     },
     "metadata": {},
     "output_type": "display_data"
    }
   ],
   "source": [
    "f = plt.figure(figsize=(15,3))\n",
    "f.suptitle('Vocabulary by Character Count')\n",
    "\n",
    "short = train['comment_text'][(train['char_counts'] < 250)]\n",
    "long = train['comment_text'][(train['char_counts'] >= 250) & (train['char_counts'] < 3000)]\n",
    "extralong = train['comment_text'][(train['char_counts'] >= 3000)]\n",
    "\n",
    "ax1 = plt.subplot(int(str(13) + str(1)))\n",
    "ax1 = common.plot_wordcloud_to_axis(' '.join(short.values), ax=ax1)\n",
    "ax1.set_title('< 250 chars')\n",
    "\n",
    "ax2 = plt.subplot(int(str(13) + str(2)))\n",
    "ax2 = common.plot_wordcloud_to_axis(' '.join(long.values), ax=ax2);\n",
    "ax2.set_title('250-3000 chars')\n",
    "\n",
    "ax3 = plt.subplot(int(str(13) + str(3)))\n",
    "ax3 = common.plot_wordcloud_to_axis(' '.join(extralong.values), ax=ax3);\n",
    "ax3.set_title('> 3000 chars');"
   ]
  },
  {
   "cell_type": "markdown",
   "metadata": {},
   "source": [
    "Note above that there is a stark difference in topic for short vs. medium vs. long comments."
   ]
  },
  {
   "cell_type": "markdown",
   "metadata": {},
   "source": [
    "## Lines\n"
   ]
  },
  {
   "cell_type": "code",
   "execution_count": null,
   "metadata": {},
   "outputs": [],
   "source": [
    "train['line_counts'] = train['comment_text'].str.split('\\n').apply(lambda x: len(x))\n",
    "fig = common.density_plot(train, 'line_counts', train['is_toxic']);\n",
    "fig.suptitle('line_counts');"
   ]
  },
  {
   "cell_type": "code",
   "execution_count": null,
   "metadata": {},
   "outputs": [],
   "source": [
    "train['line_counts'].describe(percentiles=[.98]).astype(int)"
   ]
  },
  {
   "cell_type": "markdown",
   "metadata": {},
   "source": [
    "## Words"
   ]
  },
  {
   "cell_type": "code",
   "execution_count": null,
   "metadata": {},
   "outputs": [],
   "source": [
    "train['word_counts'] = train['comment_text'].str.split().apply(lambda x: len(x))\n",
    "fig = common.density_plot(train, 'word_counts', train['is_toxic']);\n",
    "fig.suptitle('word_counts');"
   ]
  },
  {
   "cell_type": "code",
   "execution_count": null,
   "metadata": {},
   "outputs": [],
   "source": [
    "train['word_counts'].describe().astype(int)"
   ]
  },
  {
   "cell_type": "markdown",
   "metadata": {},
   "source": [
    "## Word Length"
   ]
  },
  {
   "cell_type": "code",
   "execution_count": null,
   "metadata": {},
   "outputs": [],
   "source": [
    "train['word_lengths'] = train['char_counts']/train['word_counts']\n",
    "fig = common.density_plot(train, 'word_lengths', train['is_toxic']);\n",
    "fig.suptitle('word_lengths');"
   ]
  },
  {
   "cell_type": "code",
   "execution_count": null,
   "metadata": {},
   "outputs": [],
   "source": [
    "train['word_lengths'].describe(percentiles=[0.05, 0.25, 0.5, 0.75, 0.99]).astype(int)"
   ]
  },
  {
   "cell_type": "code",
   "execution_count": null,
   "metadata": {},
   "outputs": [],
   "source": [
    "normal_max = train.loc[~train['is_toxic'], 'word_lengths'].max()\n",
    "toxic_max = train.loc[train['is_toxic'], 'word_lengths'].max()\n",
    "train.loc[train['word_lengths'].isin([normal_max, toxic_max])]"
   ]
  },
  {
   "cell_type": "code",
   "execution_count": null,
   "metadata": {},
   "outputs": [],
   "source": [
    "train.groupby('is_toxic').median()['word_lengths']"
   ]
  },
  {
   "cell_type": "code",
   "execution_count": null,
   "metadata": {},
   "outputs": [],
   "source": [
    "train['word_lengths'].sort_values(ascending=False).head()"
   ]
  },
  {
   "cell_type": "markdown",
   "metadata": {},
   "source": [
    "## Paragraphs"
   ]
  },
  {
   "cell_type": "code",
   "execution_count": null,
   "metadata": {},
   "outputs": [],
   "source": [
    "train['paragraphs'] = train['comment_text'].str.split('\\n{1,}').apply(lambda x: len(x))\n",
    "fig = common.density_plot(train, 'paragraphs', train['is_toxic']);\n",
    "fig.suptitle('paragraphs');"
   ]
  },
  {
   "cell_type": "code",
   "execution_count": null,
   "metadata": {},
   "outputs": [],
   "source": [
    "train['paragraph_lengths'] = train['word_counts']/train['paragraphs']\n",
    "fig = common.density_plot(train, 'paragraph_lengths', train['is_toxic']);\n",
    "fig.suptitle('paragraph_lengths');"
   ]
  },
  {
   "cell_type": "markdown",
   "metadata": {},
   "source": [
    "# Textual Screaming"
   ]
  },
  {
   "cell_type": "code",
   "execution_count": null,
   "metadata": {},
   "outputs": [],
   "source": [
    "def str_to_prop_caps(s=None, base='letters'):\n",
    "    '''Returns the proportion of \n",
    "    letters in a string which are uppercase'''\n",
    "    num_caps = len(list(filter(lambda x: x in string.ascii_uppercase, s)))\n",
    "    total_chars = len(s)\n",
    "    total_letters = len(list(filter(lambda x: x in string.ascii_letters, s)))\n",
    "    if base == 'letters':\n",
    "        try: \n",
    "            return num_caps / total_letters\n",
    "        except ZeroDivisionError:\n",
    "            return 0\n",
    "    elif base == 'chars':\n",
    "        try: \n",
    "            return num_caps / total_chars\n",
    "        except ZeroDivisionError:\n",
    "            return 0\n",
    "    else:\n",
    "        raise ValueError('Unrecognized base')\n",
    "\n",
    "# str_to_prop_caps('hElO')"
   ]
  },
  {
   "cell_type": "code",
   "execution_count": null,
   "metadata": {},
   "outputs": [],
   "source": [
    "train['prop_caps'] = train['comment_text'].apply(str_to_prop_caps)"
   ]
  },
  {
   "cell_type": "code",
   "execution_count": null,
   "metadata": {},
   "outputs": [],
   "source": [
    "train.prop_caps.describe()"
   ]
  },
  {
   "cell_type": "code",
   "execution_count": null,
   "metadata": {},
   "outputs": [],
   "source": [
    "f = plt.figure(figsize=(15,3))\n",
    "f.suptitle('Vocabulary by Proportion Caps')\n",
    "\n",
    "quiet = train.loc[train['prop_caps'] < train['prop_caps'].median(), 'comment_text']\n",
    "loud = train.loc[train['prop_caps'] > np.percentile(train['prop_caps'], q=-.95), 'comment_text']\n",
    "\n",
    "ax = plt.subplot(121)\n",
    "ax."
   ]
  },
  {
   "cell_type": "markdown",
   "metadata": {},
   "source": [
    "## Outliers"
   ]
  },
  {
   "cell_type": "code",
   "execution_count": null,
   "metadata": {},
   "outputs": [],
   "source": [
    "length_measures = [\n",
    "    'char_counts',\n",
    "    'line_counts', \n",
    "    'word_counts', \n",
    "    'word_lengths', \n",
    "    'paragraphs', \n",
    "    'paragraph_lengths',\n",
    "    'is_toxic'\n",
    "]\n",
    "\n",
    "sns.heatmap(train[length_measures].corr());"
   ]
  },
  {
   "cell_type": "code",
   "execution_count": null,
   "metadata": {},
   "outputs": [],
   "source": [
    "from sklearn.preprocessing import StandardScaler\n",
    "\n",
    "scaler = StandardScaler()\n",
    "counts_lengths_std = scaler.fit_transform(counts_lengths)\n",
    "\n",
    "from sklearn.decomposition import PCA\n",
    "pca = PCA(\n",
    "    n_components=2,\n",
    "    random_state=42\n",
    ")\n",
    "pca.fit(counts_lengths_std)"
   ]
  },
  {
   "cell_type": "code",
   "execution_count": null,
   "metadata": {},
   "outputs": [],
   "source": [
    "counts_lengths_std.std(axis=0)"
   ]
  },
  {
   "cell_type": "code",
   "execution_count": null,
   "metadata": {},
   "outputs": [],
   "source": [
    "list(zip(pca.components_))"
   ]
  },
  {
   "cell_type": "code",
   "execution_count": null,
   "metadata": {},
   "outputs": [],
   "source": [
    "comps = pd.DataFrame(\n",
    "    pca.transform(counts_lengths_std), \n",
    "    columns=['PC1', 'PC2'],\n",
    "    index=train.index\n",
    ")\n",
    "comps = comps.join(train['is_toxic'])\n",
    "fig = sns.lmplot(x='PC1', y='PC2', hue='is_toxic', data=comps, fit_reg=False)\n",
    "# fig.axes[0][0].arrow(0, 0, pca.components_[0][0], pca.components_[1][0])\n",
    "for variable in list(zip(pca.components_[0], pca.components_[1])):\n",
    "    norm = np.sqrt(variable[0]**2 + variable[1]**2)\n",
    "    fig.axes[0][0].arrow(0, 0, variable[0]*norm*100, variable[1]*norm*100)\n",
    "    \n",
    "    \n"
   ]
  },
  {
   "cell_type": "code",
   "execution_count": null,
   "metadata": {},
   "outputs": [],
   "source": [
    "plot_pca_loadings(component=1, data=counts_lengths_std)"
   ]
  },
  {
   "cell_type": "code",
   "execution_count": null,
   "metadata": {},
   "outputs": [],
   "source": [
    "plot_pca_loadings(component=2, data=counts_lengths_std)"
   ]
  },
  {
   "cell_type": "code",
   "execution_count": null,
   "metadata": {},
   "outputs": [],
   "source": [
    "plot_pca_loadings(component=3, data=counts_lengths_std)"
   ]
  },
  {
   "cell_type": "code",
   "execution_count": null,
   "metadata": {},
   "outputs": [],
   "source": [
    "sns.lmplot(\n",
    "    x='word_counts', \n",
    "    y='char_counts', \n",
    "    data=train, \n",
    "    fit_reg=False, \n",
    "    hue='is_toxic');"
   ]
  },
  {
   "cell_type": "markdown",
   "metadata": {},
   "source": [
    "Above, notice the character-count ceiling at 5000 characters. It's not clear at this time whether this is a limit imposed by Wikipedia or by the gatherers of the dataset."
   ]
  },
  {
   "cell_type": "code",
   "execution_count": null,
   "metadata": {},
   "outputs": [],
   "source": [
    "sns.lmplot(\n",
    "    x='word_counts', \n",
    "    y='word_lengths',\n",
    "    data=train, \n",
    "    fit_reg=False, \n",
    "    hue='is_toxic');"
   ]
  },
  {
   "cell_type": "code",
   "execution_count": null,
   "metadata": {},
   "outputs": [],
   "source": [
    "sns.lmplot(\n",
    "    x='char_counts', \n",
    "    y='line_counts',\n",
    "    data=train, \n",
    "    fit_reg=False, \n",
    "    hue='is_toxic');\n",
    "\n",
    "# 'char_counts', \n",
    "# 'line_counts'\n",
    "# 'word_counts',\n",
    "# 'word_lengths', \n",
    "# 'paragraphs', \n",
    "# 'paragraph_lengths'"
   ]
  },
  {
   "cell_type": "code",
   "execution_count": null,
   "metadata": {},
   "outputs": [],
   "source": [
    "sns.lmplot(\n",
    "    x='char_counts', \n",
    "    y='word_lengths',\n",
    "    data=train, \n",
    "    fit_reg=False, \n",
    "    hue='is_toxic');\n",
    "\n",
    "# 'char_counts', \n",
    "# 'line_counts'\n",
    "# 'word_counts',\n",
    "# 'word_lengths', \n",
    "# 'paragraphs', \n",
    "# 'paragraph_lengths'"
   ]
  },
  {
   "cell_type": "code",
   "execution_count": null,
   "metadata": {},
   "outputs": [],
   "source": [
    "train[train['char_counts']==5000].head()"
   ]
  },
  {
   "cell_type": "code",
   "execution_count": null,
   "metadata": {},
   "outputs": [],
   "source": []
  }
 ],
 "metadata": {
  "kernelspec": {
   "display_name": "Python 3",
   "language": "python",
   "name": "python3"
  },
  "language_info": {
   "codemirror_mode": {
    "name": "ipython",
    "version": 3
   },
   "file_extension": ".py",
   "mimetype": "text/x-python",
   "name": "python",
   "nbconvert_exporter": "python",
   "pygments_lexer": "ipython3",
   "version": "3.5.4"
  }
 },
 "nbformat": 4,
 "nbformat_minor": 2
}
